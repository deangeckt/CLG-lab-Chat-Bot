{
 "cells": [
  {
   "cell_type": "code",
   "execution_count": 2,
   "id": "77e67899",
   "metadata": {
    "ExecuteTime": {
     "end_time": "2022-09-02T13:09:29.218071Z",
     "start_time": "2022-09-02T13:09:28.072803Z"
    }
   },
   "outputs": [
    {
     "name": "stdout",
     "output_type": "stream",
     "text": [
      "cpu\n"
     ]
    }
   ],
   "source": [
    "import pandas as pd\n",
    "import torch\n",
    "from torch.utils.data import Dataset, random_split\n",
    "from transformers import GPT2Tokenizer, TrainingArguments, Trainer, GPT2LMHeadModel\n",
    "from transformers import AutoModelForCausalLM, AutoTokenizer\n",
    "import torch\n",
    "\n",
    "device = 'cpu' #'cuda' if torch.cuda.is_available() else 'cpu'\n",
    "print(device)"
   ]
  },
  {
   "cell_type": "code",
   "execution_count": null,
   "id": "b0fc2928",
   "metadata": {},
   "outputs": [],
   "source": []
  },
  {
   "cell_type": "code",
   "execution_count": null,
   "id": "08f24980",
   "metadata": {},
   "outputs": [],
   "source": []
  },
  {
   "cell_type": "code",
   "execution_count": null,
   "id": "150dc352",
   "metadata": {},
   "outputs": [],
   "source": []
  },
  {
   "cell_type": "code",
   "execution_count": 2,
   "id": "bfb50ee6",
   "metadata": {
    "ExecuteTime": {
     "end_time": "2022-09-02T13:09:39.280886Z",
     "start_time": "2022-09-02T13:09:30.544633Z"
    }
   },
   "outputs": [
    {
     "name": "stderr",
     "output_type": "stream",
     "text": [
      "Special tokens have been added in the vocabulary, make sure the associated word embeddings are fine-tuned or trained.\n",
      "Special tokens have been added in the vocabulary, make sure the associated word embeddings are fine-tuned or trained.\n"
     ]
    },
    {
     "data": {
      "text/plain": [
       "device(type='cpu')"
      ]
     },
     "execution_count": 2,
     "metadata": {},
     "output_type": "execute_result"
    }
   ],
   "source": [
    "sep_token = '<SEP>'\n",
    "tokenizer = AutoTokenizer.from_pretrained(\"microsoft/DialoGPT-large\", bos_token='<|startoftext|>',\n",
    "                                          eos_token='<|endoftext|>', pad_token='<|pad|>', sep_token ='<SEP>',\n",
    "                                         padding_side='left')\n",
    "model = AutoModelForCausalLM.from_pretrained(\"microsoft/DialoGPT-large\").to(device)\n",
    "model.resize_token_embeddings(len(tokenizer))\n",
    "model.device"
   ]
  },
  {
   "cell_type": "code",
   "execution_count": 3,
   "id": "818e76db",
   "metadata": {
    "scrolled": true
   },
   "outputs": [
    {
     "name": "stdout",
     "output_type": "stream",
     "text": [
      ">> User:יקט\n"
     ]
    },
    {
     "name": "stderr",
     "output_type": "stream",
     "text": [
      "A decoder-only architecture is being used, but right-padding was detected! For correct generation results, please set `padding_side='left'` when initializing the tokenizer.\n"
     ]
    },
    {
     "name": "stdout",
     "output_type": "stream",
     "text": [
      "2,17<SEP>יקט<SEP>\n",
      "torch.Size([1, 15])\n",
      "DialoGPT: 2,17.\n",
      ">> User:hey\n"
     ]
    },
    {
     "name": "stderr",
     "output_type": "stream",
     "text": [
      "A decoder-only architecture is being used, but right-padding was detected! For correct generation results, please set `padding_side='left'` when initializing the tokenizer.\n"
     ]
    },
    {
     "name": "stdout",
     "output_type": "stream",
     "text": [
      "2,17<SEP>hey<SEP>\n",
      "torch.Size([1, 27])\n",
      "DialoGPT: 2,17.\n",
      ">> User:hey\n"
     ]
    },
    {
     "name": "stderr",
     "output_type": "stream",
     "text": [
      "A decoder-only architecture is being used, but right-padding was detected! For correct generation results, please set `padding_side='left'` when initializing the tokenizer.\n"
     ]
    },
    {
     "name": "stdout",
     "output_type": "stream",
     "text": [
      "2,17<SEP>hey<SEP>\n",
      "torch.Size([1, 41])\n",
      "DialoGPT: 2,17, hey,\n"
     ]
    }
   ],
   "source": [
    "# chat on cpu\n",
    "for step in range(3):\n",
    "    # encode the new user input, add the eos_token and return a tensor in Pytorch\n",
    "    input_text = input(\">> User:\")\n",
    "    text_to_bot = f'2,17{sep_token}{input_text}{sep_token}'\n",
    "    print(text_to_bot)\n",
    "    new_user_input_ids = tokenizer.encode(text_to_bot + tokenizer.eos_token, return_tensors='pt')\n",
    "\n",
    "    # append the new user input tokens to the chat history\n",
    "    bot_input_ids = torch.cat([chat_history_ids, new_user_input_ids], dim=-1) if step > 0 else new_user_input_ids\n",
    "\n",
    "    # generated a response while limiting the total chat history to 1000 tokens,\n",
    "    chat_history_ids = model.generate(bot_input_ids, max_length=1000, pad_token_id=tokenizer.eos_token_id,\n",
    "                                     top_p=0.95, temperature=1.5)\n",
    "    print(chat_history_ids.shape)\n",
    "    \n",
    "\n",
    "    # pretty print last ouput tokens from bot\n",
    "    print(\"DialoGPT: {}\".format(tokenizer.decode(chat_history_ids[:, bot_input_ids.shape[-1]:][0], skip_special_tokens=True)))\n"
   ]
  },
  {
   "cell_type": "code",
   "execution_count": 4,
   "id": "52309c05",
   "metadata": {
    "ExecuteTime": {
     "end_time": "2022-09-02T13:10:55.549320Z",
     "start_time": "2022-09-02T13:10:55.542434Z"
    },
    "scrolled": true
   },
   "outputs": [
    {
     "data": {
      "text/plain": [
       "['2,17<SEP>where should I go now?<SEP>pass the branch below the tiger, to the left',\n",
       " '2,17<SEP>where to?<SEP>pass the branch below the tiger, to the left',\n",
       " '2,17<SEP>now what?<SEP>pass the branch below the tiger, to the left',\n",
       " \"2,17<SEP>I'm near the tiger<SEP>pass the branch below the tiger, to the left\",\n",
       " '8,1<SEP>where should I go now?<SEP>head south east from the giraph, towards the snake',\n",
       " '8,1<SEP>where to?<SEP>head south east from the giraph, towards the snake',\n",
       " '8,1<SEP>now what?<SEP>head south east from the giraph, towards the snake',\n",
       " \"8,1<SEP>I'm near the giraph<SEP>head south east from the giraph, towards the snake\"]"
      ]
     },
     "execution_count": 4,
     "metadata": {},
     "output_type": "execute_result"
    }
   ],
   "source": [
    "data = pd.read_csv('data.csv')\n",
    "single_sentences = []\n",
    "\n",
    "for text, cell, resp in zip(data.input_text, data.input_cell, data.output):\n",
    "    single_sentences.append(f'{cell}{sep_token}{text}{sep_token}{resp}')\n",
    "# single_sentences *= 5\n",
    "single_sentences"
   ]
  },
  {
   "cell_type": "code",
   "execution_count": null,
   "id": "423d0679",
   "metadata": {
    "ExecuteTime": {
     "end_time": "2022-09-02T13:10:57.403727Z",
     "start_time": "2022-09-02T13:10:57.377195Z"
    }
   },
   "outputs": [],
   "source": [
    "max_length = max([len(tokenizer.encode(sent)) for sent in single_sentences])\n",
    "max_length"
   ]
  },
  {
   "cell_type": "code",
   "execution_count": null,
   "id": "e0fd6133",
   "metadata": {
    "ExecuteTime": {
     "end_time": "2022-09-02T13:10:58.710237Z",
     "start_time": "2022-09-02T13:10:58.705258Z"
    }
   },
   "outputs": [],
   "source": [
    "class CustomDataset(Dataset):\n",
    "    def __init__(self, txt_list, tokenizer, max_length):\n",
    "        self.input_ids = []\n",
    "        self.attn_masks = []\n",
    "        self.labels = []\n",
    "        for txt in txt_list:\n",
    "            encodings_dict = tokenizer('<|startoftext|>' + txt + '<|endoftext|>', truncation=True,\n",
    "                                       max_length=max_length, padding=\"max_length\")\n",
    "            self.input_ids.append(torch.tensor(encodings_dict['input_ids']))\n",
    "            self.attn_masks.append(torch.tensor(encodings_dict['attention_mask']))\n",
    "\n",
    "    def __len__(self):\n",
    "        return len(self.input_ids)\n",
    "\n",
    "    def __getitem__(self, idx):\n",
    "#         print(self.input_ids[idx].shape)\n",
    "#         print(self.attn_masks[idx])\n",
    "        return self.input_ids[idx], self.attn_masks[idx]"
   ]
  },
  {
   "cell_type": "code",
   "execution_count": null,
   "id": "b6976086",
   "metadata": {
    "ExecuteTime": {
     "end_time": "2022-09-02T13:11:00.089615Z",
     "start_time": "2022-09-02T13:11:00.040004Z"
    }
   },
   "outputs": [],
   "source": [
    "dataset = CustomDataset(single_sentences, tokenizer, max_length=max_length)\n",
    "train_size = int(0.9 * len(dataset))\n",
    "train_dataset, val_dataset = random_split(dataset, [train_size, len(dataset) - train_size])\n",
    "print(f'train {len(train_dataset)} val: {len(val_dataset)}')"
   ]
  },
  {
   "cell_type": "code",
   "execution_count": null,
   "id": "127666f0",
   "metadata": {
    "ExecuteTime": {
     "end_time": "2022-09-02T13:11:04.212502Z",
     "start_time": "2022-09-02T13:11:04.208190Z"
    }
   },
   "outputs": [],
   "source": [
    "training_args = TrainingArguments(\"few_uters\",\n",
    "                                  evaluation_strategy=\"steps\",\n",
    "                                  logging_steps=6,\n",
    "                                  eval_steps=12,\n",
    "                                  save_steps=12,\n",
    "                                  num_train_epochs=1,\n",
    "                                  per_device_train_batch_size=1,\n",
    "                                  per_device_eval_batch_size=1,\n",
    "                                  no_cuda=True,\n",
    "                                  overwrite_output_dir=True)"
   ]
  },
  {
   "cell_type": "code",
   "execution_count": null,
   "id": "9faf5a32",
   "metadata": {
    "ExecuteTime": {
     "end_time": "2022-09-02T13:11:50.045639Z",
     "start_time": "2022-09-02T13:11:05.879780Z"
    }
   },
   "outputs": [],
   "source": [
    "# torch.cuda.empty_cache()\n",
    "t = Trainer(model=model,  args=training_args, train_dataset=train_dataset,\n",
    "        eval_dataset=val_dataset, data_collator=lambda data: {'input_ids': torch.stack([f[0] for f in data]),\n",
    "                                                              'attention_mask': torch.stack([f[1] for f in data]),\n",
    "                                                              'labels': torch.stack([f[0] for f in data])})\n",
    "t.train()"
   ]
  },
  {
   "cell_type": "code",
   "execution_count": null,
   "id": "f2b4e614",
   "metadata": {},
   "outputs": [],
   "source": [
    "generated = tokenizer(\"<|startoftext|> 2,17<SEP>where should I go now?<SEP>\", return_tensors=\"pt\").input_ids\n",
    "sample_outputs = model.generate(generated, do_sample=True, top_k=50, pad_token_id=tokenizer.eos_token_id,\n",
    "                                max_length=300, top_p=0.95, temperature=1.5, num_return_sequences=5)\n"
   ]
  },
  {
   "cell_type": "code",
   "execution_count": null,
   "id": "89a9f471",
   "metadata": {},
   "outputs": [],
   "source": [
    "for i, sample_output in enumerate(sample_outputs):\n",
    "    print(\"{}: {}\".format(i, tokenizer.decode(sample_output, skip_special_tokens=True)))"
   ]
  }
 ],
 "metadata": {
  "kernelspec": {
   "display_name": "Python 3 (ipykernel)",
   "language": "python",
   "name": "python3"
  },
  "language_info": {
   "codemirror_mode": {
    "name": "ipython",
    "version": 3
   },
   "file_extension": ".py",
   "mimetype": "text/x-python",
   "name": "python",
   "nbconvert_exporter": "python",
   "pygments_lexer": "ipython3",
   "version": "3.9.0"
  }
 },
 "nbformat": 4,
 "nbformat_minor": 5
}
